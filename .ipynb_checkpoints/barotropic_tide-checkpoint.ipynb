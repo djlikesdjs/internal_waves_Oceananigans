{
 "cells": [
  {
   "cell_type": "code",
   "execution_count": 2,
   "id": "2e47a899-eea7-4000-b044-9b1e505b10a0",
   "metadata": {
    "tags": []
   },
   "outputs": [
    {
     "name": "stderr",
     "output_type": "stream",
     "text": [
      "\u001b[32m\u001b[1m  Activating\u001b[22m\u001b[39m project at `C:\\Users\\djlik\\OneDrive\\Documents\\GitHub\\internal_waves_Oceananigans`\n"
     ]
    }
   ],
   "source": [
    "using Pkg; Pkg.activate(@__DIR__);"
   ]
  },
  {
   "cell_type": "code",
   "execution_count": 3,
   "id": "3df66bde",
   "metadata": {
    "tags": []
   },
   "outputs": [],
   "source": [
    "using Oceananigans,\n",
    "      Oceananigans.Units\n",
    "using CUDA"
   ]
  },
  {
   "cell_type": "code",
   "execution_count": 4,
   "id": "3cbe025b",
   "metadata": {
    "tags": []
   },
   "outputs": [
    {
     "data": {
      "text/plain": [
       "300×1×80 RectilinearGrid{Float64, Periodic, Flat, Bounded} on CPU with 4×0×4 halo\n",
       "├── Periodic x ∈ [-800000.0, 800000.0) regularly spaced with Δx=5333.33\n",
       "├── Flat y\n",
       "└── Bounded  z ∈ [-2000.0, 0.0]        regularly spaced with Δz=25.0"
      ]
     },
     "execution_count": 4,
     "metadata": {},
     "output_type": "execute_result"
    }
   ],
   "source": [
    "Nx, Nz = 300, 80\n",
    "\n",
    "architecture = CPU()\n",
    "\n",
    "H  = 2kilometers\n",
    "Lx = 1600kilometers\n",
    "\n",
    "underlying_grid = RectilinearGrid(architecture,\n",
    "                                  size = (Nx, Nz),\n",
    "                                  x = (-Lx/2, Lx/2),\n",
    "                                  z = (-H, 0),\n",
    "                                  halo = (4, 4), # start with this commented out\n",
    "                                  topology = (Periodic, Flat, Bounded))"
   ]
  },
  {
   "cell_type": "code",
   "execution_count": 5,
   "id": "b13dae3a-25a0-4fbb-835a-c4f5b75291d6",
   "metadata": {},
   "outputs": [
    {
     "data": {
      "text/plain": [
       "300×1×80 RectilinearGrid{Float64, Periodic, Flat, Bounded} on CPU with 4×0×4 halo\n",
       "├── Periodic x ∈ [-800000.0, 800000.0) regularly spaced with Δx=5333.33\n",
       "├── Flat y\n",
       "└── Bounded  z ∈ [-2000.0, 0.0]        regularly spaced with Δz=25.0"
      ]
     },
     "execution_count": 5,
     "metadata": {},
     "output_type": "execute_result"
    }
   ],
   "source": [
    "underlying_grid"
   ]
  },
  {
   "cell_type": "markdown",
   "id": "e30f5f65-ab47-4fad-b3e6-3e04e29f0c79",
   "metadata": {},
   "source": [
    "Now we want to create a bathymetry as an immersed boundary grid.\n",
    "\n",
    "$$\n",
    "h(x) = -H + h_0 \\, \\exp(-x^2 / 2\\sigma^2)\n",
    "$$"
   ]
  },
  {
   "cell_type": "code",
   "execution_count": 6,
   "id": "8a3dddb5",
   "metadata": {},
   "outputs": [
    {
     "data": {
      "text/plain": [
       "300×1×80 ImmersedBoundaryGrid{Float64, Periodic, Flat, Bounded} on CPU with 4×0×4 halo:\n",
       "├── immersed_boundary: GridFittedBottom(min(h)=-2.00e+03, max(h)=-1.96e+03)\n",
       "├── underlying_grid: 300×1×80 RectilinearGrid{Float64, Periodic, Flat, Bounded} on CPU with 4×0×4 halo\n",
       "├── Periodic x ∈ [-800000.0, 800000.0) regularly spaced with Δx=5333.33\n",
       "├── Flat y\n",
       "└── Bounded  z ∈ [-2000.0, 0.0]        regularly spaced with Δz=25.0"
      ]
     },
     "execution_count": 6,
     "metadata": {},
     "output_type": "execute_result"
    }
   ],
   "source": [
    "h₀ = 50 # m\n",
    "width = 5kilometers\n",
    "bump(x, y) = - H + h₀ * exp(-x^2 / 2width^2)\n",
    "\n",
    "grid = ImmersedBoundaryGrid(underlying_grid, GridFittedBottom(bump))"
   ]
  },
  {
   "cell_type": "code",
   "execution_count": 26,
   "id": "bf234c32",
   "metadata": {},
   "outputs": [
    {
     "data": {
      "image/png": "[encoded data removed]"
     },
     "execution_count": 26,
     "metadata": {},
     "output_type": "execute_result"
    }
   ],
   "source": [
    "z = znodes(grid, Center());\n",
    "\n",
    "using CairoMakie\n",
    "\n",
    "fig = Figure(resolution=(400, 300))\n",
    "ax = Axis(fig[1, 1])\n",
    "lines!(ax, z, @. 1/2 + 1/2 * tanh((z + H/4)/50))\n",
    "fig"
   ]
  },
  {
   "cell_type": "code",
   "execution_count": 33,
   "id": "a5f06464-c98b-4f7a-ab53-60f1a1effab2",
   "metadata": {},
   "outputs": [],
   "source": [
    "xC = xnodes(grid, Center())\n",
    "\n",
    "bottom = CUDA.@allowscalar collect(grid.immersed_boundary.bottom_height[1:Nx, 1]);"
   ]
  },
  {
   "cell_type": "code",
   "execution_count": 34,
   "id": "3a29a791-e6a8-4f56-b370-ede0bbd0eb61",
   "metadata": {},
   "outputs": [
    {
     "data": {
      "image/png": "[encoded data removed]"
     },
     "execution_count": 34,
     "metadata": {},
     "output_type": "execute_result"
    }
   ],
   "source": [
    "using CairoMakie\n",
    "\n",
    "fig = Figure(resolution = (700, 200))\n",
    "ax = Axis(fig[1, 1],\n",
    "          xlabel=\"x [km]\",\n",
    "          ylabel=\"z [m]\",\n",
    "          limits=((-Lx/2e3, Lx/2e3), (-H, -H/2)))\n",
    "\n",
    "lines!(ax, xC/1e3, bottom)\n",
    "\n",
    "fig"
   ]
  },
  {
   "cell_type": "markdown",
   "id": "c65ce4c1",
   "metadata": {},
   "source": [
    "The $M_2$ tidal forcing. We add forcing in the $u$-momentum equation of the form:\n",
    "\n",
    "$$\n",
    "\\partial_t u = \\dots + f_0 \\cos(\\omega_2 t)\n",
    "$$"
   ]
  },
  {
   "cell_type": "code",
   "execution_count": 35,
   "id": "dc094572",
   "metadata": {},
   "outputs": [
    {
     "data": {
      "text/plain": [
       "0.00014051439111137024"
      ]
     },
     "execution_count": 35,
     "metadata": {},
     "output_type": "execute_result"
    }
   ],
   "source": [
    "T₂ = 12.421hours\n",
    "const ω₂ = 2π / T₂ # radians/sec"
   ]
  },
  {
   "cell_type": "markdown",
   "id": "9d2cc70a-7815-4c87-b5be-8abd8cad28bd",
   "metadata": {},
   "source": [
    "The excursion parameter is a nondimensional number that expresses the ratio of the flow movement due to the tide compared to the size of the width of the hill.\n",
    "\n",
    "$$\n",
    "\\varepsilon = \\frac{U / \\omega}{\\sigma}\n",
    "$$"
   ]
  },
  {
   "cell_type": "code",
   "execution_count": 36,
   "id": "ec0a025a-f59d-4e02-a1c3-c0097d9f36e9",
   "metadata": {},
   "outputs": [
    {
     "data": {
      "text/plain": [
       "FPlane{Float64}(f=-0.000103126)"
      ]
     },
     "execution_count": 36,
     "metadata": {},
     "output_type": "execute_result"
    }
   ],
   "source": [
    "coriolis = FPlane(latitude = -45)"
   ]
  },
  {
   "cell_type": "code",
   "execution_count": 37,
   "id": "8364c192-14f8-4a0d-bcdd-1bd5ad3e3be0",
   "metadata": {},
   "outputs": [
    {
     "data": {
      "text/plain": [
       "-0.00010312607931384282"
      ]
     },
     "execution_count": 37,
     "metadata": {},
     "output_type": "execute_result"
    }
   ],
   "source": [
    "coriolis.f"
   ]
  },
  {
   "cell_type": "code",
   "execution_count": 38,
   "id": "22b5a770",
   "metadata": {},
   "outputs": [
    {
     "data": {
      "text/plain": [
       "tidal_forcing (generic function with 1 method)"
      ]
     },
     "execution_count": 38,
     "metadata": {},
     "output_type": "execute_result"
    }
   ],
   "source": [
    "ε = 0.2\n",
    "\n",
    "U_tidal = ε * ω₂ * width\n",
    "\n",
    "coriolis = FPlane(latitude = -45)\n",
    "\n",
    "const tidal_forcing_amplitude = U_tidal * (coriolis.f^2 - ω₂^2) / ω₂\n",
    "\n",
    "@inline tidal_forcing(x, y, z, t) = tidal_forcing_amplitude * cos(ω₂ * t)"
   ]
  },
  {
   "cell_type": "code",
   "execution_count": 39,
   "id": "85c1b623",
   "metadata": {},
   "outputs": [
    {
     "name": "stdout",
     "output_type": "stream",
     "text": [
      "prettytime(Δt) = \"2.372 minutes\"\n"
     ]
    },
    {
     "data": {
      "text/plain": [
       "\"2.372 minutes\""
      ]
     },
     "execution_count": 39,
     "metadata": {},
     "output_type": "execute_result"
    }
   ],
   "source": [
    "tidal_timescale = 1 / ω₂\n",
    "\n",
    "Δt = 0.02 * tidal_timescale\n",
    "\n",
    "@show prettytime(Δt)"
   ]
  },
  {
   "cell_type": "code",
   "execution_count": 40,
   "id": "5aa88ad0-8365-4cb0-83a2-6fe71080ece6",
   "metadata": {},
   "outputs": [
    {
     "data": {
      "text/plain": [
       "\"1.157 days\""
      ]
     },
     "execution_count": 40,
     "metadata": {},
     "output_type": "execute_result"
    }
   ],
   "source": [
    "prettytime(100000)"
   ]
  },
  {
   "cell_type": "code",
   "execution_count": 41,
   "id": "f690f703-8a8c-4cfa-8c24-f023902c4253",
   "metadata": {},
   "outputs": [],
   "source": [
    "using Oceananigans.Models.HydrostaticFreeSurfaceModels: FFTImplicitFreeSurfaceSolver\n",
    "\n",
    "fft_preconditioner = FFTImplicitFreeSurfaceSolver(grid)\n",
    "free_surface = ImplicitFreeSurface(solver_method=:PreconditionedConjugateGradient, preconditioner=fft_preconditioner);"
   ]
  },
  {
   "cell_type": "code",
   "execution_count": 42,
   "id": "ee4ef176",
   "metadata": {},
   "outputs": [
    {
     "data": {
      "text/plain": [
       "HorizontalScalarDiffusivity{ExplicitTimeDiscretization}(ν=variable_viscosity (generic function with 1 method), κ=0.0)"
      ]
     },
     "execution_count": 42,
     "metadata": {},
     "output_type": "execute_result"
    }
   ],
   "source": [
    "ν = 100\n",
    "variable_viscosity(x, y, z, t) = ν * (1/2 + 1/2 * tanh((z + H/4)/50))\n",
    "\n",
    "closure = HorizontalScalarDiffusivity(ν=variable_viscosity, \\kappa = variable_viscosity)"
   ]
  },
  {
   "cell_type": "code",
   "execution_count": 43,
   "id": "067acd53",
   "metadata": {},
   "outputs": [
    {
     "data": {
      "text/plain": [
       "HydrostaticFreeSurfaceModel{CPU, ImmersedBoundaryGrid}(time = 0 seconds, iteration = 0)\n",
       "├── grid: 300×1×80 ImmersedBoundaryGrid{Float64, Periodic, Flat, Bounded} on CPU with 4×0×4 halo\n",
       "├── timestepper: QuasiAdamsBashforth2TimeStepper\n",
       "├── tracers: b\n",
       "├── closure: HorizontalScalarDiffusivity{ExplicitTimeDiscretization}(ν=variable_viscosity (generic function with 1 method), κ=(b=0.0,))\n",
       "├── buoyancy: BuoyancyTracer with ĝ = NegativeZDirection()\n",
       "├── free surface: ImplicitFreeSurface with gravitational acceleration 9.80665 m s⁻²\n",
       "│   └── solver: PCGImplicitFreeSurfaceSolver\n",
       "└── coriolis: FPlane{Float64}"
      ]
     },
     "execution_count": 43,
     "metadata": {},
     "output_type": "execute_result"
    }
   ],
   "source": [
    "model = HydrostaticFreeSurfaceModel(grid = grid,\n",
    "                                    free_surface = free_surface,\n",
    "                                    coriolis = coriolis,\n",
    "                                    buoyancy = BuoyancyTracer(),\n",
    "                                    tracers = :b,\n",
    "                                    momentum_advection = WENO(),\n",
    "                                    tracer_advection = WENO(),\n",
    "                                    closure = closure,\n",
    "                                    forcing = (u = tidal_forcing,))"
   ]
  },
  {
   "cell_type": "code",
   "execution_count": 44,
   "id": "a2ab564c-067c-47ea-997c-d04e015f85b8",
   "metadata": {},
   "outputs": [
    {
     "data": {
      "text/plain": [
       "CPU()"
      ]
     },
     "execution_count": 44,
     "metadata": {},
     "output_type": "execute_result"
    }
   ],
   "source": [
    "model.architecture"
   ]
  },
  {
   "cell_type": "code",
   "execution_count": 45,
   "id": "348b45fa",
   "metadata": {},
   "outputs": [
    {
     "data": {
      "text/plain": [
       "Simulation of HydrostaticFreeSurfaceModel{CPU, ImmersedBoundaryGrid}(time = 0 seconds, iteration = 0)\n",
       "├── Next time step: 2.372 minutes\n",
       "├── Elapsed wall time: 0 seconds\n",
       "├── Wall time per iteration: NaN days\n",
       "├── Stop time: 6.210 days\n",
       "├── Stop iteration : Inf\n",
       "├── Wall time limit: Inf\n",
       "├── Callbacks: OrderedDict with 4 entries:\n",
       "│   ├── stop_time_exceeded => Callback of stop_time_exceeded on IterationInterval(1)\n",
       "│   ├── stop_iteration_exceeded => Callback of stop_iteration_exceeded on IterationInterval(1)\n",
       "│   ├── wall_time_limit_exceeded => Callback of wall_time_limit_exceeded on IterationInterval(1)\n",
       "│   └── nan_checker => Callback of NaNChecker for u on IterationInterval(100)\n",
       "├── Output writers: OrderedDict with no entries\n",
       "└── Diagnostics: OrderedDict with no entries"
      ]
     },
     "execution_count": 45,
     "metadata": {},
     "output_type": "execute_result"
    }
   ],
   "source": [
    "stop_time = 6T₂\n",
    "\n",
    "simulation = Simulation(model, Δt=Δt, stop_time=stop_time)"
   ]
  },
  {
   "cell_type": "code",
   "execution_count": 46,
   "id": "5c831231",
   "metadata": {},
   "outputs": [
    {
     "data": {
      "text/plain": [
       "Callback of print_progress on IterationInterval(200)"
      ]
     },
     "execution_count": 46,
     "metadata": {},
     "output_type": "execute_result"
    }
   ],
   "source": [
    "using Printf\n",
    "\n",
    "wall_clock = Ref(time_ns())\n",
    "\n",
    "function print_progress(sim)\n",
    "\n",
    "    elapsed = 1e-9 * (time_ns() - wall_clock[])\n",
    "\n",
    "    msg = @sprintf(\"iteration: %d, time: %s, wall time: %s, max|w|: %6.3e, m s⁻¹, next Δt: %s\\n\",\n",
    "                   iteration(sim), prettytime(sim), prettytime(elapsed),\n",
    "                   maximum(abs, sim.model.velocities.w), prettytime(sim.Δt))\n",
    "\n",
    "    wall_clock[] = time_ns()\n",
    "\n",
    "    @info msg\n",
    "\n",
    "    return nothing\n",
    "end\n",
    "\n",
    "simulation.callbacks[:print_progress] = Callback(print_progress, IterationInterval(200))"
   ]
  },
  {
   "cell_type": "markdown",
   "id": "68592fa6-d1da-4d6c-a241-108af89cb72b",
   "metadata": {},
   "source": [
    "## Diagnostics\n",
    "\n",
    "There are no predefine diagnostics in Oceananigans! Instead users are expected to construct their own using normal algebraic operations and calculus!\n",
    "\n",
    "Each model has velocities and some tracers, like buoyancy $b$ or temperature and salinity ($T$ and $S$).\n",
    "\n",
    "Let's create a few!"
   ]
  },
  {
   "cell_type": "code",
   "execution_count": 47,
   "id": "2a7efa73",
   "metadata": {},
   "outputs": [
    {
     "data": {
      "text/plain": [
       "NamedTuple with 3 Fields on 300×1×80 ImmersedBoundaryGrid{Float64, Periodic, Flat, Bounded} on CPU with 4×0×4 halo:\n",
       "├── u: 300×1×80 Field{Face, Center, Center} on ImmersedBoundaryGrid on CPU\n",
       "├── v: 300×1×80 Field{Center, Face, Center} on ImmersedBoundaryGrid on CPU\n",
       "└── w: 300×1×81 Field{Center, Center, Face} on ImmersedBoundaryGrid on CPU"
      ]
     },
     "execution_count": 47,
     "metadata": {},
     "output_type": "execute_result"
    }
   ],
   "source": [
    "b = model.tracers.b\n",
    "u, v, w = model.velocities"
   ]
  },
  {
   "cell_type": "code",
   "execution_count": 48,
   "id": "731e8490-6137-48bb-8026-4038b0ce3615",
   "metadata": {
    "tags": []
   },
   "outputs": [
    {
     "data": {
      "text/plain": [
       "BinaryOperation at (Face, Center, Center)\n",
       "├── grid: 300×1×80 ImmersedBoundaryGrid{Float64, Periodic, Flat, Bounded} on CPU with 4×0×4 halo\n",
       "└── tree: \n",
       "    - at (Face, Center, Center)\n",
       "    ├── 300×1×80 Field{Face, Center, Center} on ImmersedBoundaryGrid on CPU\n",
       "    └── 1×1×1 Field{Nothing, Nothing, Nothing} reduced over dims = (1, 2, 3) on ImmersedBoundaryGrid on CPU"
      ]
     },
     "execution_count": 48,
     "metadata": {},
     "output_type": "execute_result"
    }
   ],
   "source": [
    "U = Field(Average(u))\n",
    "\n",
    "u′ = u - U"
   ]
  },
  {
   "cell_type": "markdown",
   "id": "d904fb81-ef43-41e4-9bf5-073ca03c46d4",
   "metadata": {
    "tags": []
   },
   "source": [
    "The buoyancy frequency $N^2 = \\partial_z b$:"
   ]
  },
  {
   "cell_type": "code",
   "execution_count": 49,
   "id": "e05662a5-b403-4486-adcc-8da0ce17f1cd",
   "metadata": {
    "tags": []
   },
   "outputs": [
    {
     "data": {
      "text/plain": [
       "Derivative at (Center, Center, Face)\n",
       "├── grid: 300×1×80 ImmersedBoundaryGrid{Float64, Periodic, Flat, Bounded} on CPU with 4×0×4 halo\n",
       "└── tree: \n",
       "    ∂zᶜᶜᶠ at (Center, Center, Face) via identity\n",
       "    └── 300×1×80 Field{Center, Center, Center} on ImmersedBoundaryGrid on CPU"
      ]
     },
     "execution_count": 49,
     "metadata": {},
     "output_type": "execute_result"
    }
   ],
   "source": [
    "N² = ∂z(b)"
   ]
  },
  {
   "cell_type": "markdown",
   "id": "24eb6be4-7687-4cee-bf0b-46fe0bccc702",
   "metadata": {},
   "source": [
    "The velocity vertical shear squared, $S^2 = (\\partial_z u)^2 + (\\partial_z v)^2$:"
   ]
  },
  {
   "cell_type": "code",
   "execution_count": 50,
   "id": "0d70aff1-a6ef-4324-be74-93a3f78f68b0",
   "metadata": {
    "tags": []
   },
   "outputs": [
    {
     "data": {
      "text/plain": [
       "BinaryOperation at (Center, Center, Face)\n",
       "├── grid: 300×1×80 ImmersedBoundaryGrid{Float64, Periodic, Flat, Bounded} on CPU with 4×0×4 halo\n",
       "└── tree: \n",
       "    + at (Center, Center, Face)\n",
       "    ├── ^ at (Center, Center, Face)\n",
       "    │   ├── ∂zᶠᶜᶠ at (Center, Center, Face) via ℑxᶜᵃᵃ\n",
       "    │   │   └── 300×1×80 Field{Face, Center, Center} on ImmersedBoundaryGrid on CPU\n",
       "    │   └── 2\n",
       "    └── ^ at (Center, Center, Face)\n",
       "        ├── ∂zᶜᶠᶠ at (Center, Center, Face) via ℑyᵃᶜᵃ\n",
       "        │   └── 300×1×80 Field{Center, Face, Center} on ImmersedBoundaryGrid on CPU\n",
       "        └── 2"
      ]
     },
     "execution_count": 50,
     "metadata": {},
     "output_type": "execute_result"
    }
   ],
   "source": [
    "S² = @at (Center, Center, Face) ∂z(u)^2 + ∂z(v)^2"
   ]
  },
  {
   "cell_type": "markdown",
   "id": "55bef4e1-0245-4a46-bf95-4b1b1bedaa78",
   "metadata": {
    "tags": []
   },
   "source": [
    "And the Richardson number, $Ri = N^2 / S^2$."
   ]
  },
  {
   "cell_type": "code",
   "execution_count": 51,
   "id": "9be6ef3a-0ebd-4586-aa5d-9d3378f13af2",
   "metadata": {
    "tags": []
   },
   "outputs": [
    {
     "data": {
      "text/plain": [
       "BinaryOperation at (Center, Center, Face)\n",
       "├── grid: 300×1×80 ImmersedBoundaryGrid{Float64, Periodic, Flat, Bounded} on CPU with 4×0×4 halo\n",
       "└── tree: \n",
       "    / at (Center, Center, Face)\n",
       "    ├── ∂zᶜᶜᶠ at (Center, Center, Face) via identity\n",
       "    │   └── 300×1×80 Field{Center, Center, Center} on ImmersedBoundaryGrid on CPU\n",
       "    └── + at (Center, Center, Face)\n",
       "        ├── ^ at (Center, Center, Face)\n",
       "        │   ├── ∂zᶠᶜᶠ at (Center, Center, Face) via ℑxᶜᵃᵃ\n",
       "        │   │   └── 300×1×80 Field{Face, Center, Center} on ImmersedBoundaryGrid on CPU\n",
       "        │   └── 2\n",
       "        └── ^ at (Center, Center, Face)\n",
       "            ├── ∂zᶜᶠᶠ at (Center, Center, Face) via ℑyᵃᶜᵃ\n",
       "            │   └── 300×1×80 Field{Center, Face, Center} on ImmersedBoundaryGrid on CPU\n",
       "            └── 2"
      ]
     },
     "execution_count": 51,
     "metadata": {},
     "output_type": "execute_result"
    }
   ],
   "source": [
    "Ri = N² / S²"
   ]
  },
  {
   "cell_type": "code",
   "execution_count": 52,
   "id": "7ab34e57",
   "metadata": {},
   "outputs": [
    {
     "data": {
      "text/plain": [
       "JLD2OutputWriter scheduled on TimeInterval(15 minutes):\n",
       "├── filepath: .\\barotropic_tide.jld2\n",
       "├── 6 outputs: (Ri, N², u′, u, w, b)\n",
       "├── array type: Array{Float64}\n",
       "├── including: [:grid, :coriolis, :buoyancy, :closure]\n",
       "└── max filesize: Inf YiB"
      ]
     },
     "execution_count": 52,
     "metadata": {},
     "output_type": "execute_result"
    }
   ],
   "source": [
    "name = \"barotropic_tide\"\n",
    "\n",
    "simulation.output_writers[:fields] = JLD2OutputWriter(model, (; Ri, N², u′, u, w, b),\n",
    "                                                      schedule = TimeInterval(15minutes),\n",
    "                                                      with_halos = false,\n",
    "                                                      filename = name,\n",
    "                                                      overwrite_existing = true)"
   ]
  },
  {
   "cell_type": "markdown",
   "id": "d758c4d3-bed8-476b-9c0f-ca2160e39de2",
   "metadata": {},
   "source": [
    "## Initial conditions"
   ]
  },
  {
   "cell_type": "code",
   "execution_count": 53,
   "id": "b4244b8c",
   "metadata": {},
   "outputs": [],
   "source": [
    "# Initial conditions\n",
    "uᵢ(x, y, z) = U_tidal\n",
    "\n",
    "Nᵢ² = 4e-5  # [s⁻²] initial buoyancy frequency / stratification\n",
    "bᵢ(x, y, z) = Nᵢ² * z\n",
    "\n",
    "set!(model, u=uᵢ, b=bᵢ)"
   ]
  },
  {
   "cell_type": "code",
   "execution_count": 54,
   "id": "1b5835d1",
   "metadata": {},
   "outputs": [
    {
     "data": {
      "image/png": "[encoded data removed]"
     },
     "execution_count": 54,
     "metadata": {},
     "output_type": "execute_result"
    }
   ],
   "source": [
    "fig = Figure(resolution = (700, 300))\n",
    "\n",
    "ax = Axis(fig[1, 1],\n",
    "          xlabel = \"x [km]\",\n",
    "          ylabel = \"depth [m]\")\n",
    "\n",
    "x, y, z = nodes(b)\n",
    "\n",
    "hm = heatmap!(ax, x/1e3, z, collect(interior(b, :, 1, :)))\n",
    "Colorbar(fig[1, 2], hm)\n",
    "\n",
    "fig"
   ]
  },
  {
   "cell_type": "code",
   "execution_count": null,
   "id": "60c5d7c6",
   "metadata": {},
   "outputs": [
    {
     "name": "stderr",
     "output_type": "stream",
     "text": [
      "\u001b[36m\u001b[1m[ \u001b[22m\u001b[39m\u001b[36m\u001b[1mInfo: \u001b[22m\u001b[39mInitializing simulation...\n",
      "\u001b[36m\u001b[1m[ \u001b[22m\u001b[39m\u001b[36m\u001b[1mInfo: \u001b[22m\u001b[39miteration: 0, time: 0 seconds, wall time: 1.003 minutes, max|w|: 6.587e-04, m s⁻¹, next Δt: 2.372 minutes\n",
      "\u001b[36m\u001b[1m[ \u001b[22m\u001b[39m\u001b[36m\u001b[1mInfo: \u001b[22m\u001b[39m    ... simulation initialization complete (13.206 seconds)\n",
      "\u001b[36m\u001b[1m[ \u001b[22m\u001b[39m\u001b[36m\u001b[1mInfo: \u001b[22m\u001b[39mExecuting initial time step...\n",
      "\u001b[36m\u001b[1m[ \u001b[22m\u001b[39m\u001b[36m\u001b[1mInfo: \u001b[22m\u001b[39m    ... initial time step complete (31.578 seconds).\n",
      "\u001b[36m\u001b[1m[ \u001b[22m\u001b[39m\u001b[36m\u001b[1mInfo: \u001b[22m\u001b[39miteration: 200, time: 7.158 hours, wall time: 1.553 minutes, max|w|: 2.572e-04, m s⁻¹, next Δt: 2.372 minutes\n",
      "\u001b[36m\u001b[1m[ \u001b[22m\u001b[39m\u001b[36m\u001b[1mInfo: \u001b[22m\u001b[39miteration: 400, time: 14.290 hours, wall time: 49.362 seconds, max|w|: 7.230e-04, m s⁻¹, next Δt: 2.372 minutes\n",
      "\u001b[36m\u001b[1m[ \u001b[22m\u001b[39m\u001b[36m\u001b[1mInfo: \u001b[22m\u001b[39miteration: 600, time: 21.448 hours, wall time: 45.842 seconds, max|w|: 1.069e-03, m s⁻¹, next Δt: 2.372 minutes\n",
      "\u001b[36m\u001b[1m[ \u001b[22m\u001b[39m\u001b[36m\u001b[1mInfo: \u001b[22m\u001b[39miteration: 800, time: 1.191 days, wall time: 47.375 seconds, max|w|: 1.120e-03, m s⁻¹, next Δt: 2.372 minutes\n",
      "\u001b[36m\u001b[1m[ \u001b[22m\u001b[39m\u001b[36m\u001b[1mInfo: \u001b[22m\u001b[39miteration: 1000, time: 1.489 days, wall time: 46.417 seconds, max|w|: 8.573e-04, m s⁻¹, next Δt: 2.372 minutes\n",
      "\u001b[36m\u001b[1m[ \u001b[22m\u001b[39m\u001b[36m\u001b[1mInfo: \u001b[22m\u001b[39miteration: 1200, time: 1.786 days, wall time: 46.036 seconds, max|w|: 6.161e-04, m s⁻¹, next Δt: 2.372 minutes\n",
      "\u001b[36m\u001b[1m[ \u001b[22m\u001b[39m\u001b[36m\u001b[1mInfo: \u001b[22m\u001b[39miteration: 1400, time: 2.083 days, wall time: 45.792 seconds, max|w|: 5.368e-04, m s⁻¹, next Δt: 2.372 minutes\n"
     ]
    }
   ],
   "source": [
    "run!(simulation)"
   ]
  },
  {
   "cell_type": "markdown",
   "id": "11ad700c-6b31-42d5-bbe7-6ba1944ccf7c",
   "metadata": {},
   "source": [
    "## Reading output + visualise\n",
    "\n",
    "Now we can load the output and visualise."
   ]
  },
  {
   "cell_type": "code",
   "execution_count": 38,
   "id": "0fa6cbea",
   "metadata": {},
   "outputs": [
    {
     "data": {
      "text/plain": [
       "597-element Vector{Float64}:\n",
       "      0.0\n",
       "    900.0\n",
       "   1800.0\n",
       "   2700.0\n",
       "   3600.0\n",
       "   4500.0\n",
       "   5400.0\n",
       "   6300.0\n",
       "   7200.0\n",
       "   8100.0\n",
       "   9000.0\n",
       "   9900.0\n",
       "  10800.0\n",
       "      ⋮\n",
       " 526500.0\n",
       " 527400.0\n",
       " 528300.0\n",
       " 529200.0\n",
       " 530100.0\n",
       " 531000.0\n",
       " 531900.0\n",
       " 532800.0\n",
       " 533700.0\n",
       " 534600.0\n",
       " 535500.0\n",
       " 536400.0"
      ]
     },
     "execution_count": 38,
     "metadata": {},
     "output_type": "execute_result"
    }
   ],
   "source": [
    "saved_output_filename = name * \".jld2\"\n",
    "\n",
    "u_t  = FieldTimeSeries(saved_output_filename, \"u\")\n",
    "u′_t = FieldTimeSeries(saved_output_filename, \"u′\")\n",
    "w_t  = FieldTimeSeries(saved_output_filename, \"w\")\n",
    "N²_t = FieldTimeSeries(saved_output_filename, \"N²\")\n",
    "\n",
    "times = u_t.times"
   ]
  },
  {
   "cell_type": "markdown",
   "id": "ed53ce3d-2fa1-4ef9-a468-d4065dba0895",
   "metadata": {},
   "source": [
    "Fields live on different parts of the grid. The information is stored within each field so Oceananigans.jl gives us functionality to get the grid points where each field lives -- we don't need to do it by hand."
   ]
  },
  {
   "cell_type": "code",
   "execution_count": 39,
   "id": "68f4b29b",
   "metadata": {},
   "outputs": [
    {
     "data": {
      "text/plain": [
       "([-797333.3333333334, -792000.0, -786666.6666666666, -781333.3333333334, -776000.0, -770666.6666666666, -765333.3333333334, -760000.0, -754666.6666666666, -749333.3333333334  …  749333.3333333334, 754666.6666666666, 760000.0, 765333.3333333334, 770666.6666666666, 776000.0, 781333.3333333334, 786666.6666666666, 792000.0, 797333.3333333334], StepRangeLen(1.0, 0.0, 1), [-2000.0, -1975.0, -1950.0, -1925.0, -1900.0, -1875.0, -1850.0, -1825.0, -1800.0, -1775.0  …  -225.0, -200.0, -175.0, -150.0, -125.0, -100.0, -75.0, -50.0, -25.0, 0.0])"
      ]
     },
     "execution_count": 39,
     "metadata": {},
     "output_type": "execute_result"
    }
   ],
   "source": [
    "xu,  yu,  zu  = nodes(u_t[1])\n",
    "xw,  yw,  zw  = nodes(w_t[1])\n",
    "xN², yN², zN² = nodes(N²_t[1])"
   ]
  },
  {
   "cell_type": "code",
   "execution_count": 40,
   "id": "f8d44219-f7bf-484e-9fc3-2fcc19a1207e",
   "metadata": {},
   "outputs": [
    {
     "data": {
      "text/plain": [
       "mask_and_get_interior (generic function with 1 method)"
      ]
     },
     "execution_count": 40,
     "metadata": {},
     "output_type": "execute_result"
    }
   ],
   "source": [
    "using Oceananigans.ImmersedBoundaries: mask_immersed_field!\n",
    "\n",
    "function mask_and_get_interior(φ_t, n)\n",
    "    mask_immersed_field!(φ_t[n], NaN)\n",
    "    return interior(φ_t[n], :, 1, :)\n",
    "end"
   ]
  },
  {
   "cell_type": "code",
   "execution_count": 41,
   "id": "d71a4579-8917-4ad1-9adc-67ce3646ff29",
   "metadata": {
    "tags": []
   },
   "outputs": [
    {
     "data": {
      "image/png": "[encoded data removed]"
     },
     "execution_count": 41,
     "metadata": {},
     "output_type": "execute_result"
    }
   ],
   "source": [
    "n = Observable(1)\n",
    "\n",
    "title = @lift @sprintf(\"t = %1.2f days = %1.2f T₂\", round(times[$n]/day, digits=2) , round(times[$n]/T₂, digits=2))\n",
    "\n",
    "u′ₙ = @lift mask_and_get_interior(u′_t, $n)\n",
    "wₙ  = @lift mask_and_get_interior(w_t, $n)\n",
    "N²ₙ = @lift mask_and_get_interior(N²_t, $n)\n",
    "\n",
    "axis_kwargs = (xlabel = \"x [km]\",\n",
    "               ylabel = \"z [m]\",\n",
    "               limits = ((-Lx/2e3, Lx/2e3), (-H, 0)),\n",
    "               titlesize = 20)\n",
    "\n",
    "ulim   = 0.5 * maximum(abs, u_t[end])\n",
    "wlim   = maximum(abs, w_t[end])\n",
    "\n",
    "fig = Figure(resolution = (700, 900))\n",
    "\n",
    "ax_u = Axis(fig[2, 1];\n",
    "            title = \"u′-velocity\", axis_kwargs...)\n",
    "\n",
    "ax_w = Axis(fig[3, 1];\n",
    "            title = \"w-velocity\", axis_kwargs...)\n",
    "\n",
    "ax_N² = Axis(fig[4, 1];\n",
    "             title = \"stratification\", axis_kwargs...)\n",
    "\n",
    "fig[1, :] = Label(fig, title, fontsize=24, tellwidth=false)\n",
    "\n",
    "hm_u = heatmap!(ax_u, xu/1e3, zu, u′ₙ;\n",
    "                colorrange = (-ulim, ulim),\n",
    "                colormap = :balance)\n",
    "Colorbar(fig[2, 2], hm_u)\n",
    "\n",
    "hm_w = heatmap!(ax_w, xw/1e3, zw, wₙ;\n",
    "                colorrange = (-wlim, wlim),\n",
    "                colormap = :balance)\n",
    "Colorbar(fig[3, 2], hm_w)\n",
    "\n",
    "hm_N² = heatmap!(ax_N², xN²/1e3, zN², N²ₙ;\n",
    "                 colorrange = (0.9Nᵢ², 1.1Nᵢ²),\n",
    "                 colormap = :thermal)\n",
    "Colorbar(fig[4, 2], hm_N²)\n",
    "\n",
    "fig"
   ]
  },
  {
   "cell_type": "code",
   "execution_count": 42,
   "id": "1bec3ae6",
   "metadata": {},
   "outputs": [
    {
     "name": "stderr",
     "output_type": "stream",
     "text": [
      "\u001b[36m\u001b[1m[ \u001b[22m\u001b[39m\u001b[36m\u001b[1mInfo: \u001b[22m\u001b[39mMaking an animation from saved data...\n"
     ]
    },
    {
     "name": "stdout",
     "output_type": "stream",
     "text": [
      "Plotting frame 597 of 597 \r"
     ]
    },
    {
     "data": {
      "text/plain": [
       "\"barotropic_tide.mp4\""
      ]
     },
     "execution_count": 42,
     "metadata": {},
     "output_type": "execute_result"
    }
   ],
   "source": [
    "@info \"Making an animation from saved data...\"\n",
    "\n",
    "frames = 1:length(times)\n",
    "\n",
    "CairoMakie.record(fig, name * \".mp4\", frames, framerate=24) do i\n",
    "    msg = string(\"Plotting frame \", i, \" of \", frames[end])\n",
    "    print(msg * \" \\r\")\n",
    "    n[] = i\n",
    "end"
   ]
  },
  {
   "cell_type": "markdown",
   "id": "edb2323b-6eff-4e65-a72d-4e2a22221236",
   "metadata": {},
   "source": [
    "![](barotropic_tide.mp4)"
   ]
  },
  {
   "cell_type": "code",
   "execution_count": null,
   "id": "8db7a311-d385-4875-96e5-8adbbb8cecc5",
   "metadata": {},
   "outputs": [],
   "source": []
  }
 ],
 "metadata": {
  "kernelspec": {
   "display_name": "Julia 1.8.5",
   "language": "julia",
   "name": "julia-1.8"
  },
  "language_info": {
   "file_extension": ".jl",
   "mimetype": "application/julia",
   "name": "julia",
   "version": "1.8.5"
  }
 },
 "nbformat": 4,
 "nbformat_minor": 5
}
